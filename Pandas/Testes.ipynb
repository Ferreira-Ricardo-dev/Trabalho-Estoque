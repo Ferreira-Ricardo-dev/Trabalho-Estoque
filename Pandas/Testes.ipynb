{
 "cells": [
  {
   "cell_type": "markdown",
   "id": "bdcba1d1",
   "metadata": {},
   "source": [
    "# Pandas"
   ]
  },
  {
   "cell_type": "markdown",
   "id": "05b66032",
   "metadata": {},
   "source": [
    "### Importando o pandas"
   ]
  },
  {
   "cell_type": "code",
   "execution_count": 1,
   "id": "edf66be6",
   "metadata": {},
   "outputs": [],
   "source": [
    "import pandas as pd"
   ]
  },
  {
   "cell_type": "markdown",
   "id": "d389d77e",
   "metadata": {},
   "source": [
    "### Funcionamento do Pandas\n",
    "- O pandas trabalha com **dataframes**, que em python é uma tabela de dados podemos criar um dataframe pelo método **pd.dataframe** a partir de um dicionário por exemplo.\n",
    "- E sempre bom indicar no nome da variável se ela é ou não um dataframe, podendo nomea-lá por exemplo com o final **_df**."
   ]
  },
  {
   "cell_type": "code",
   "execution_count": 2,
   "id": "e2be58f4",
   "metadata": {},
   "outputs": [],
   "source": [
    "venda = {\"data\":[\"15/02/2021\", \"16/02/2021\"],\n",
    "         \"valor\":[300, 500],\n",
    "         \"produto\":['feijão', 'arroz'],\n",
    "         \"qtde\":[50, 70]\n",
    "}\n",
    "\n",
    "venda_df = pd.DataFrame(venda) #Aqui eu uso o método Dataframe do panda para criar a tabela com as informações do dicionário"
   ]
  },
  {
   "cell_type": "markdown",
   "id": "3c2ead90",
   "metadata": {},
   "source": [
    "### Visualização de Dados com Pandas\n",
    "- Existem duas maneiras de visualizar um dataframe, sendo:\n",
    "1. print\n",
    "2. display\n",
    "- A diferença das duas é que a função print vai mostrar a tabela crua, já o display vai retornar a tebela com uma pequena interface deixando mais agrádavel a visualização dos dados\n"
   ]
  },
  {
   "cell_type": "code",
   "execution_count": null,
   "id": "f58e4c1b",
   "metadata": {},
   "outputs": [],
   "source": [
    "#Usando print\n",
    "print(venda_df)\n",
    "print(\"------------------------------------------\")\n",
    "display(venda_df)"
   ]
  },
  {
   "cell_type": "markdown",
   "id": "6f9ccb68",
   "metadata": {},
   "source": [
    "### Lendo uma planilha do Excel com Pandas\n",
    "- Para fazer isso usamos o método **read_excel('arquivo.xlsx')** (para isso precisa-se baixar a biblioteca **openpyxl**) com o nome é a extensão do arquivo excel que queremos visualizar (caso o arquivo não esteja na mesma pasta é preciso especificar o caminho onde o arquivo está) e então podemos visualizar nossa planilha."
   ]
  },
  {
   "cell_type": "code",
   "execution_count": null,
   "id": "01328914",
   "metadata": {},
   "outputs": [],
   "source": [
    "planilha_df = pd.read_excel('Vendas.xlsx')\n",
    "display(planilha_df)"
   ]
  },
  {
   "cell_type": "markdown",
   "id": "aa9bd564",
   "metadata": {},
   "source": [
    "- Também é possível usar parâmetros do panda para modificar a visualização da tabela:\n",
    "1. sheet_name=\"\" -> Define qual a aba específica da planilha irá ser lida.\n",
    "2. header=\"\" -> Indica qual linha deve ser usada como cabeçalho no dataframe.\n",
    "3. usecols=\"\" -> Permite selecionar as colunas na planilha."
   ]
  },
  {
   "cell_type": "code",
   "execution_count": null,
   "id": "11dacf50",
   "metadata": {},
   "outputs": [],
   "source": [
    "#Usando sheet_name para exibir a segunda página da planilha\n",
    "planilha_df_2 = pd.read_excel('Vendas.xlsx', sheet_name=1) #Também é possível especificar o nome da página que você quer exibir\n",
    "display(planilha_df_2)\n",
    "print(\"---------------------------------------------------------------------------------------------------------------------------------\")\n",
    "#Usando header para definir outra linha para cabeçalho do dataframe\n",
    "planilha_df_cabecalho = pd.read_excel('Vendas.xlsx', header=2) #Também é possível usar 'None' para criar uma tabela sem cabeçalho\n",
    "display(planilha_df_cabecalho)\n",
    "print(\"---------------------------------------------------------------------------------------------------------------------------------\")\n",
    "#Usando usecols para exibir apenas algumas colunas da planilha\n",
    "planilha_df_colunas = pd.read_excel('Vendas.xlsx', usecols=[1, 2, 3])#É possível usar o nome ou o índice\n",
    "display(planilha_df_colunas)\n"
   ]
  }
 ],
 "metadata": {
  "kernelspec": {
   "display_name": ".venv (3.11.9)",
   "language": "python",
   "name": "python3"
  },
  "language_info": {
   "codemirror_mode": {
    "name": "ipython",
    "version": 3
   },
   "file_extension": ".py",
   "mimetype": "text/x-python",
   "name": "python",
   "nbconvert_exporter": "python",
   "pygments_lexer": "ipython3",
   "version": "3.11.9"
  }
 },
 "nbformat": 4,
 "nbformat_minor": 5
}
